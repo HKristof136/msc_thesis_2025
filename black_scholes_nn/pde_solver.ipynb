{
 "cells": [
  {
   "cell_type": "code",
   "execution_count": 1,
   "metadata": {},
   "outputs": [],
   "source": [
    "import numpy as np\n",
    "import time\n",
    "from scipy.stats import norm\n",
    "import matplotlib.pyplot as plt\n",
    "import pandas as pd\n",
    "import tensorflow as tf"
   ]
  },
  {
   "cell_type": "code",
   "execution_count": 2,
   "metadata": {},
   "outputs": [
    {
     "name": "stdout",
     "output_type": "stream",
     "text": [
      "Call Option Price: 27.485070068999597\n",
      "Put Option Price: 0.04654129403529883\n"
     ]
    }
   ],
   "source": [
    "def black_scholes(S, K, T, r, sigma, option_type='call'):\n",
    "    \"\"\"\n",
    "    Calculate the Black-Scholes option price.\n",
    "\n",
    "    Parameters:\n",
    "    S (float): Current stock price\n",
    "    K (float): Option strike price\n",
    "    T (float): Time to maturity (in years)\n",
    "    r (float): Risk-free interest rate (annual)\n",
    "    sigma (float): Volatility of the underlying stock (annual)\n",
    "    option_type (str): 'call' for call option, 'put' for put option\n",
    "\n",
    "    Returns:\n",
    "    float: Black-Scholes price of the option\n",
    "    \"\"\"\n",
    "    d1 = (np.log(S / K) + (r + 0.5 * sigma**2) * T) / (sigma * np.sqrt(T))\n",
    "    d2 = d1 - sigma * np.sqrt(T)\n",
    "\n",
    "    if option_type == 'call':\n",
    "        option_price = S * norm.cdf(d1) - K * np.exp(-r * T) * norm.cdf(d2)\n",
    "    elif option_type == 'put':\n",
    "        option_price = K * np.exp(-r * T) * norm.cdf(-d2) - S * norm.cdf(-d1)\n",
    "    else:\n",
    "        raise ValueError(\"option_type must be 'call' or 'put'\")\n",
    "\n",
    "    return option_price\n",
    "\n",
    "# Example usage\n",
    "S = 75  # Current stock price\n",
    "K = 50  # Option strike price\n",
    "T = 1    # Time to maturity (1 year)\n",
    "r = 0.05 # Risk-free interest rate (5%)\n",
    "sigma = 0.2 # Volatility (20%)\n",
    "\n",
    "call_price = black_scholes(S, K, T, r, sigma, option_type='call')\n",
    "put_price = black_scholes(S, K, T, r, sigma, option_type='put')\n",
    "\n",
    "print(f\"Call Option Price: {call_price}\")\n",
    "print(f\"Put Option Price: {put_price}\")"
   ]
  },
  {
   "cell_type": "markdown",
   "metadata": {},
   "source": [
    "## Implicit"
   ]
  },
  {
   "cell_type": "code",
   "execution_count": 3,
   "metadata": {},
   "outputs": [],
   "source": [
    "class ImplicitPDESolver:\n",
    "    def __init__(self, config: dict):\n",
    "        self.solved = False\n",
    "        self.config = config\n",
    "        self.term = np.max(config['t'])\n",
    "        self.strike = config['strike']\n",
    "        self.r = config['r']\n",
    "        self.sigma = config['sigma']\n",
    "        \n",
    "        self.t, self.x = np.meshgrid(self.config['t'], self.config['x'])\n",
    "\n",
    "        self.grid = np.zeros(self.x.shape)\n",
    "        self.grid[0, :] = 0\n",
    "        self.grid[-1, :] = np.maximum(self.x[-1, :] - np.exp(-self.r * (np.max(self.term) - self.t[-1, :])) * self.strike, 0)\n",
    "        self.grid[:, -1] = np.maximum(self.x[:, -1] - self.strike, 0)\n",
    "\n",
    "    def solve(self):\n",
    "        if self.solved:\n",
    "            print(\"Already solved\")\n",
    "            return None\n",
    "        dt = self.config['t'][1] - self.config['t'][0]\n",
    "\n",
    "        calc_A = True\n",
    "        A = np.zeros((self.config['x'].shape[0], self.config['x'].shape[0]))\n",
    "        b = np.zeros((self.config['x'].shape[0] - 2,)).reshape(-1, 1)\n",
    "\n",
    "\n",
    "        for i in range(-2, -self.t.shape[1] - 1, -1):\n",
    "            # start_time = time.perf_counter()  # Start timing\n",
    "            if calc_A:\n",
    "                for j in range(1, self.x.shape[0] - 1):\n",
    "                    a_j = 0.5 * self.r * j * dt - 0.5 * self.sigma**2 * j**2 * dt\n",
    "                    b_j = 1 + self.sigma**2 * j**2 * dt + self.r * dt\n",
    "                    c_j = -0.5 * self.r * j * dt - 0.5 * self.sigma**2 * j**2 * dt\n",
    "                    \n",
    "                    A[j, j - 1] = a_j\n",
    "                    A[j, j] = b_j\n",
    "                    A[j, j + 1] = c_j\n",
    "                a_1 = A[1, 0]\n",
    "                c_m_1 = A[-2, -1]\n",
    "                A = A[1:-1, 1:-1]\n",
    "                A_inv = np.linalg.inv(A)\n",
    "            b = self.grid[1:-1, i + 1].copy()\n",
    "\n",
    "            b[0] -= a_1 * self.grid[0, i]\n",
    "            b[-1] -= c_m_1 * self.grid[-1, i]\n",
    "            self.grid[1:-1, i] = (A_inv @ b).flatten()\n",
    "\n",
    "            calc_A = False\n",
    "            # end_time = time.perf_counter()\n",
    "            # elapsed_time = end_time - start_time\n",
    "            # print(f\"Solve method {-i - 1} loop execution time: {elapsed_time:.6f} seconds\")\n",
    "        self.solved = True\n",
    "\n"
   ]
  },
  {
   "cell_type": "markdown",
   "metadata": {},
   "source": [
    "## Crank-Nicolson"
   ]
  },
  {
   "cell_type": "code",
   "execution_count": 4,
   "metadata": {},
   "outputs": [],
   "source": [
    "class CrankNicolsonPDESolver:\n",
    "    def __init__(self, config: dict):\n",
    "        self.solved = False\n",
    "        self.config = config\n",
    "        self.term = np.max(config['t'])\n",
    "        self.strike = config['strike']\n",
    "        self.r = config['r']\n",
    "        self.sigma = config['sigma']\n",
    "        \n",
    "        self.t, self.x = np.meshgrid(self.config['t'], self.config['x'])\n",
    "\n",
    "        self.grid = np.zeros(self.x.shape)\n",
    "        self.grid[0, :] = 0\n",
    "        self.grid[-1, :] = np.maximum(self.x[-1, :] - np.exp(-self.r * (np.max(self.term) - self.t[-1, :])) * self.strike, 0)\n",
    "        self.grid[:, -1] = np.maximum(self.x[:, -1] - self.strike, 0)\n",
    "\n",
    "    def solve(self):\n",
    "        if self.solved:\n",
    "            print(\"Already solved\")\n",
    "            return None\n",
    "        dt = self.config['t'][1] - self.config['t'][0]\n",
    "\n",
    "        calc_A = True\n",
    "        left_A = np.zeros((self.config['x'].shape[0], self.config['x'].shape[0]))\n",
    "        right_A = np.zeros((self.config['x'].shape[0], self.config['x'].shape[0]))\n",
    "\n",
    "\n",
    "        for i in range(-2, -self.t.shape[1] - 1, -1):\n",
    "            # start_time = time.perf_counter()  # Start timing\n",
    "            if calc_A:\n",
    "                for j in range(1, self.x.shape[0] - 1):\n",
    "                    a_j = 0.25 * dt * (self.sigma**2 * j**2 - self.r * j)\n",
    "                    b_j = -0.5 * dt * (self.sigma**2 * j**2 + self.r)\n",
    "                    c_j = 0.25 * dt * (self.sigma**2 * j**2 + self.r * j)\n",
    "                    \n",
    "                    left_A[j, j - 1] = -a_j\n",
    "                    left_A[j, j] = 1 - b_j\n",
    "                    left_A[j, j + 1] = -c_j\n",
    "\n",
    "                    right_A[j, j - 1] = a_j\n",
    "                    right_A[j, j] = 1 + b_j\n",
    "                    right_A[j, j + 1] = c_j\n",
    "                a_1 = right_A[1, 0]\n",
    "                c_m_1 = right_A[-2, -1]\n",
    "                left_A = left_A[1:-1, 1:-1]\n",
    "                right_A = right_A[1:-1, 1:-1]\n",
    "                A_inv = np.linalg.inv(left_A)\n",
    "            \n",
    "            b = right_A  @ self.grid[1:-1, i + 1].copy().reshape(-1, 1)\n",
    "\n",
    "            b[0] += a_1 * (self.grid[0, i] + self.grid[0, i + 1])\n",
    "            b[-1] += c_m_1 * (self.grid[-1, i] + self.grid[-1, i + 1])\n",
    "            self.grid[1:-1, i] = (A_inv @ b).flatten()\n",
    "\n",
    "            calc_A = False\n",
    "            # end_time = time.perf_counter()\n",
    "            # elapsed_time = end_time - start_time\n",
    "            # print(f\"Solve method {-i - 1} loop execution time: {elapsed_time:.6f} seconds\")\n",
    "        self.solved = True\n",
    "\n"
   ]
  },
  {
   "cell_type": "markdown",
   "metadata": {},
   "source": [
    "### General solve function"
   ]
  },
  {
   "cell_type": "code",
   "execution_count": 5,
   "metadata": {},
   "outputs": [],
   "source": [
    "def solve(base_cls):\n",
    "    dt = base_cls.config['t'][1] - base_cls.config['t'][0]\n",
    "\n",
    "    calc_A = True\n",
    "    left_A = np.zeros((base_cls.config['x'].shape[0], base_cls.config['x'].shape[0]))\n",
    "    right_A = np.zeros((base_cls.config['x'].shape[0], base_cls.config['x'].shape[0]))\n",
    "\n",
    "\n",
    "    for i in range(-2, -base_cls.t.shape[1] - 1, -1):\n",
    "        if calc_A:\n",
    "            for j in range(1, base_cls.x.shape[0] - 1):\n",
    "                a_j = 0.25 * dt * (base_cls.sigma**2 * j**2 - base_cls.r * j)\n",
    "                b_j = -0.5 * dt * (base_cls.sigma**2 * j**2 + base_cls.r)\n",
    "                c_j = 0.25 * dt * (base_cls.sigma**2 * j**2 + base_cls.r * j)\n",
    "                \n",
    "                left_A[j, j - 1] = -a_j\n",
    "                left_A[j, j] = 1 - b_j\n",
    "                left_A[j, j + 1] = -c_j\n",
    "\n",
    "                right_A[j, j - 1] = a_j\n",
    "                right_A[j, j] = 1 + b_j\n",
    "                right_A[j, j + 1] = c_j\n",
    "            a_1 = right_A[1, 0]\n",
    "            c_m_1 = right_A[-2, -1]\n",
    "            left_A = left_A[1:-1, 1:-1]\n",
    "            right_A = right_A[1:-1, 1:-1]\n",
    "            A_inv = np.linalg.inv(left_A)\n",
    "        \n",
    "        b = right_A  @ base_cls.grid[1:-1, i + 1].copy().reshape(-1, 1)\n",
    "\n",
    "        b[0] += a_1 * (base_cls.grid[0, i] + base_cls.grid[0, i + 1])\n",
    "        b[-1] += c_m_1 * (base_cls.grid[-1, i] + base_cls.grid[-1, i + 1])\n",
    "        base_cls.grid[1:-1, i] = (A_inv @ b).flatten()\n",
    "\n",
    "        calc_A = False"
   ]
  },
  {
   "cell_type": "markdown",
   "metadata": {},
   "source": [
    "### TensorFlow tf.function"
   ]
  },
  {
   "cell_type": "code",
   "execution_count": 6,
   "metadata": {},
   "outputs": [
    {
     "name": "stdout",
     "output_type": "stream",
     "text": [
      "Retrace\n"
     ]
    }
   ],
   "source": [
    "class TensorFlowCrankNicolsonPDESolver:\n",
    "    def __init__(self, config: dict):\n",
    "        self.config = config\n",
    "        self.term = np.max(config['t'])\n",
    "        self.strike = config['strike']\n",
    "        self.r = config['r']\n",
    "        self.sigma = config['sigma']\n",
    "        \n",
    "        self.t, self.x = np.meshgrid(self.config['t'], self.config['x'])\n",
    "\n",
    "        self.grid = np.zeros(self.x.shape)\n",
    "        self.grid[0, :] = 0\n",
    "        self.grid[-1, :] = np.maximum(self.x[-1, :] - np.exp(-self.r * (np.max(self.term) - self.t[-1, :])) * self.strike, 0)\n",
    "        self.grid[:, -1] = np.maximum(self.x[:, -1] - self.strike, 0)\n",
    "        self.grid = tf.Variable(self.grid, dtype=tf.float64)\n",
    "\n",
    "        self.calc_A = tf.constant(True)\n",
    "        self.left_A = tf.Variable(tf.zeros((self.config['x'].shape[0], self.config['x'].shape[0]), dtype=tf.float64))\n",
    "        self.right_A = tf.Variable(tf.zeros((self.config['x'].shape[0], self.config['x'].shape[0]), dtype=tf.float64))\n",
    "        self.A_inv = tf.Variable(tf.zeros((self.config['x'].shape[0] - 2, self.config['x'].shape[0] - 2), dtype=tf.float64))\n",
    "        self.a_1 = tf.Variable(0.0, dtype=tf.float64)\n",
    "        self.c_m_1 = tf.Variable(0.0, dtype=tf.float64)\n",
    "\n",
    "@tf.function\n",
    "def solve_as_graph(base_cls):\n",
    "    dt = tf.gather(base_cls.config['t'], 1) - tf.gather(base_cls.config['t'], 0)\n",
    "    print(\"Retrace\")\n",
    "    for i in tf.range(-2, -base_cls.t.shape[1] - 1, -1):\n",
    "        if base_cls.calc_A:\n",
    "            for j in tf.range(1, base_cls.x.shape[0] - 1):\n",
    "                a_j = tf.constant(0.25, dtype=tf.float64) * dt * (base_cls.sigma**2 * tf.cast(j, tf.float64)**2 - base_cls.r * tf.cast(j, tf.float64))\n",
    "                b_j = tf.constant(-0.5, dtype=tf.float64) * dt * (base_cls.sigma**2 * tf.cast(j, tf.float64)**2 + base_cls.r)\n",
    "                c_j = tf.constant(0.25, dtype=tf.float64) * dt * (base_cls.sigma**2 * tf.cast(j, tf.float64)**2 + base_cls.r * tf.cast(j, tf.float64))\n",
    "                \n",
    "                base_cls.left_A = tf.tensor_scatter_nd_update(base_cls.left_A, [[j, j - 1]], [-a_j])\n",
    "                base_cls.left_A = tf.tensor_scatter_nd_update(base_cls.left_A, [[j, j]], [1 - b_j])\n",
    "                base_cls.left_A = tf.tensor_scatter_nd_update(base_cls.left_A, [[j, j + 1]], [-c_j])\n",
    "                base_cls.right_A = tf.tensor_scatter_nd_update(base_cls.right_A, [[j, j - 1]], [a_j])\n",
    "                base_cls.right_A = tf.tensor_scatter_nd_update(base_cls.right_A, [[j, j]], [1 + b_j])\n",
    "                base_cls.right_A = tf.tensor_scatter_nd_update(base_cls.right_A, [[j, j + 1]], [c_j])\n",
    "            \n",
    "            base_cls.a_1.assign(base_cls.right_A[1, 0])\n",
    "            base_cls.c_m_1.assign(base_cls.right_A[-2, -1])\n",
    "            base_cls.A_inv.assign(tf.linalg.inv(base_cls.left_A[1:-1, 1:-1]))\n",
    "        \n",
    "        base_cls.calc_A = tf.constant(False)\n",
    "        b = tf.matmul(base_cls.right_A[1:-1, 1:-1], tf.reshape(base_cls.grid[1:-1, i + 1], [-1, 1]))\n",
    "        b = tf.tensor_scatter_nd_add(b, [[0]], [[base_cls.a_1 * (base_cls.grid[0, i] + base_cls.grid[0, i + 1])]])\n",
    "        b = tf.tensor_scatter_nd_add(b, [[tf.shape(b)[0] - 1]], [[base_cls.c_m_1 * (base_cls.grid[-1, i] + base_cls.grid[-1, i + 1])]])\n",
    "        base_cls.grid[1:-1, i].assign(tf.squeeze(tf.matmul(base_cls.A_inv, b)))\n",
    "\n",
    "config = {\n",
    "    't': tf.constant(np.linspace(0, 1, 100 + 1), dtype=tf.float64),\n",
    "    'x': tf.constant(np.linspace(0, 1, 100 + 1), dtype=tf.float64),\n",
    "    'strike': tf.constant(50, dtype=tf.float64),\n",
    "    'r': tf.constant(0.05, dtype=tf.float64),\n",
    "    'sigma': tf.constant(0.2, dtype=tf.float64)\n",
    "}\n",
    "\n",
    "tf.config.run_functions_eagerly(False)\n",
    "solver = TensorFlowCrankNicolsonPDESolver(config)\n",
    "solve_as_graph(solver)"
   ]
  },
  {
   "cell_type": "code",
   "execution_count": 7,
   "metadata": {},
   "outputs": [
    {
     "name": "stdout",
     "output_type": "stream",
     "text": [
      "Python execution: 4.09705009998288 seconds\n",
      "Retrace\n",
      "Tensorflow execution: 3.075807600049302 seconds\n"
     ]
    }
   ],
   "source": [
    "import timeit\n",
    "\n",
    "run_config = {'t': np.linspace(0, 1, 300+1), 'x': np.linspace(0, 100, 100+1),\n",
    "              'strike': 50, 'r': 0.05,\n",
    "              'sigma': 0.2}\n",
    "solver = CrankNicolsonPDESolver(run_config)\n",
    "\n",
    "print(\"Python execution:\", timeit.timeit(lambda: solve(solver), number=20), \"seconds\")\n",
    "\n",
    "config = {\n",
    "    't': tf.constant(np.linspace(0, 1, 300 + 1), dtype=tf.float64),\n",
    "    'x': tf.constant(np.linspace(0, 100, 100 + 1), dtype=tf.float64),\n",
    "    'strike': tf.constant(50, dtype=tf.float64),\n",
    "    'r': tf.constant(0.05, dtype=tf.float64),\n",
    "    'sigma': tf.constant(0.2, dtype=tf.float64)\n",
    "}\n",
    "solver = TensorFlowCrankNicolsonPDESolver(config)\n",
    "print(\"Tensorflow execution:\", timeit.timeit(lambda: solve_as_graph(solver), number=20), \"seconds\")"
   ]
  },
  {
   "cell_type": "markdown",
   "metadata": {},
   "source": [
    "## Plots"
   ]
  },
  {
   "cell_type": "code",
   "execution_count": 8,
   "metadata": {},
   "outputs": [],
   "source": [
    "run_config = {'t': np.linspace(0, 0.1, 1000+1), 'x': np.linspace(0, 200, 200+1),\n",
    "              'strike': 120, 'r': 0.02,\n",
    "              'sigma': 0.25}\n",
    "\n",
    "call_I = ImplicitPDESolver(config=run_config)\n",
    "call_I.solve()\n",
    "\n",
    "call_CN = CrankNicolsonPDESolver(config=run_config)\n",
    "call_CN.solve()"
   ]
  },
  {
   "cell_type": "code",
   "execution_count": 9,
   "metadata": {},
   "outputs": [
    {
     "name": "stderr",
     "output_type": "stream",
     "text": [
      "C:\\Users\\Kristof\\AppData\\Local\\Temp\\ipykernel_18520\\977416094.py:16: RuntimeWarning: divide by zero encountered in log\n",
      "  d1 = (np.log(S / K) + (r + 0.5 * sigma**2) * T) / (sigma * np.sqrt(T))\n"
     ]
    },
    {
     "data": {
      "image/png": "[encoded data removed]",
      "text/plain": [
       "<Figure size 1500x500 with 6 Axes>"
      ]
     },
     "metadata": {},
     "output_type": "display_data"
    }
   ],
   "source": [
    "fig, ax = plt.subplots(2, 3, figsize=(15, 5), gridspec_kw={'height_ratios': [4, 1]})\n",
    "\n",
    "slice = 0\n",
    "\n",
    "formula_solution = black_scholes(run_config['x'],\n",
    "                                 run_config['strike'],\n",
    "                                 np.max(run_config['t']) - run_config['t'][slice],\n",
    "                                 run_config['r'],\n",
    "                                 run_config['sigma'],\n",
    "                                 option_type='call')\n",
    "\n",
    "ax[0][0].plot(run_config['x'], formula_solution, lw=2.5, color=\"green\", label='analytical')\n",
    "ax[0][0].plot(run_config['x'], call_I.grid[:, slice], linestyle='dashed', lw=2, color=\"red\", label='implicit_pde_solver')\n",
    "ax[0][0].legend()\n",
    "ax[1][0].bar(run_config['x'], np.abs(call_I.grid[:, slice] - formula_solution), width=0.5)\n",
    "\n",
    "ax[0][1].plot(run_config['x'], formula_solution, lw=2.5, color=\"green\", label='analytical')\n",
    "ax[0][1].plot(run_config['x'], call_CN.grid[:, slice], linestyle='dashed', lw=2, color=\"blue\", label='crank_nicolson_pde_solver')\n",
    "ax[0][1].legend()\n",
    "ax[1][1].bar(run_config['x'], np.abs(call_CN.grid[:, slice] - formula_solution), width=0.5)\n",
    "\n",
    "ax[0][2].plot(run_config['x'], call_I.grid[:, slice], linestyle='solid', lw=2, color=\"red\", label='implicit_pde_solver')\n",
    "ax[0][2].plot(run_config['x'], call_CN.grid[:, slice], linestyle='dashed', lw=2, color=\"blue\", label='crank_nicolson_pde_solver')\n",
    "ax[0][2].legend()\n",
    "ax[1][2].bar(run_config['x'], np.abs(call_CN.grid[:, slice] - call_I.grid[:, slice]), width=0.5)\n",
    "\n",
    "plt.show()"
   ]
  }
 ],
 "metadata": {
  "kernelspec": {
   "display_name": "tensorflow_venv",
   "language": "python",
   "name": "python3"
  },
  "language_info": {
   "codemirror_mode": {
    "name": "ipython",
    "version": 3
   },
   "file_extension": ".py",
   "mimetype": "text/x-python",
   "name": "python",
   "nbconvert_exporter": "python",
   "pygments_lexer": "ipython3",
   "version": "3.12.5"
  }
 },
 "nbformat": 4,
 "nbformat_minor": 2
}
